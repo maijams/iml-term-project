{
 "cells": [
  {
   "cell_type": "markdown",
   "metadata": {},
   "source": [
    "# Modeling & predictions"
   ]
  },
  {
   "cell_type": "markdown",
   "metadata": {},
   "source": [
    "### Import libraries"
   ]
  },
  {
   "cell_type": "code",
   "execution_count": 9,
   "metadata": {},
   "outputs": [],
   "source": [
    "import pandas as pd\n",
    "import numpy as np\n",
    "import matplotlib.pyplot as plt\n",
    "import seaborn as sns\n",
    "import sklearn as sk\n",
    "from sklearn.preprocessing import PolynomialFeatures\n",
    "from sklearn.linear_model import LinearRegression\n",
    "from sklearn.metrics import mean_squared_error, make_scorer\n",
    "from sklearn.model_selection import cross_val_predict #cross_val_score, KFold\n",
    "from sklearn.model_selection import train_test_split, cross_val_score\n",
    "from sklearn.dummy import DummyRegressor\n",
    "from sklearn.ensemble import RandomForestRegressor\n",
    "from sklearn.svm import SVR\n",
    "from sklearn.preprocessing import StandardScaler\n",
    "#from sklearn.pipeline import make_pipeline\n",
    "from sklearn.linear_model import Lasso\n",
    "#from sklearn.utils import resample\n",
    "from sklearn.metrics import r2_score"
   ]
  },
  {
   "cell_type": "markdown",
   "metadata": {},
   "source": [
    "### Load data"
   ]
  },
  {
   "cell_type": "code",
   "execution_count": 10,
   "metadata": {},
   "outputs": [],
   "source": [
    "prep_X_train = pd.read_csv('data/preprocessed_X_train.csv')\n",
    "prep_X_train_scaled = pd.read_csv('data/preprocessed_X_train_scaled.csv')\n",
    "\n",
    "prep_y_train = pd.read_csv('data/preprocessed_y_train.csv')\n",
    "\n",
    "prep_X_test = pd.read_csv('data/preprocessed_X_test.csv')\n",
    "prep_X_test_scaled = pd.read_csv('data/preprocessed_X_test_scaled.csv')\n",
    "orig_X_test = pd.read_csv('data/test.csv')"
   ]
  },
  {
   "cell_type": "markdown",
   "metadata": {},
   "source": [
    "### Drop all rows with at least one outlier > outlier defined based on quantiles +/- (e.g. 2149 rows remain out of 27147)"
   ]
  },
  {
   "cell_type": "code",
   "execution_count": 11,
   "metadata": {},
   "outputs": [
    {
     "name": "stdout",
     "output_type": "stream",
     "text": [
      "(27147, 32)\n",
      "(2149, 32)\n",
      "(2149, 1)\n"
     ]
    }
   ],
   "source": [
    "# Assuming df is your DataFrame with 27 features\n",
    "# Replace 'feature_1', 'feature_2', ..., 'feature_27' with your actual column names\n",
    "\n",
    "# Identify outliers using, for example, the interquartile range (IQR) method\n",
    "Q1 = prep_X_train_scaled.quantile(0.25)\n",
    "Q3 = prep_X_train_scaled.quantile(0.75)\n",
    "IQR = Q3 - Q1\n",
    "\n",
    "# Define a boolean mask for outliers\n",
    "outliers_mask = ((prep_X_train_scaled < (Q1 - 1.5 * IQR)) | (prep_X_train_scaled > (Q3 +1.5 * IQR))).any(axis=1)\n",
    "\n",
    "# Drop rows with at least one outlier\n",
    "df_no_outliers = prep_X_train_scaled[~outliers_mask]\n",
    "\n",
    "# Get the indices of the rows without outliers in df_X\n",
    "indices_no_outliers = df_no_outliers.index\n",
    "\n",
    "# Filter df_y based on the indices\n",
    "df_y_no_outliers = prep_y_train.loc[indices_no_outliers]\n",
    "\n",
    "print(prep_X_train_scaled.shape)\n",
    "print(df_no_outliers.shape)\n",
    "print(df_y_no_outliers.shape)\n"
   ]
  },
  {
   "cell_type": "markdown",
   "metadata": {},
   "source": [
    "### Drop all rows with at least one outlier > outlier defined based on z score"
   ]
  },
  {
   "cell_type": "code",
   "execution_count": 51,
   "metadata": {},
   "outputs": [
    {
     "name": "stdout",
     "output_type": "stream",
     "text": [
      "(27147, 32)\n",
      "(25166, 32)\n",
      "(25166, 1)\n"
     ]
    }
   ],
   "source": [
    "from scipy.stats import zscore\n",
    "\n",
    "# Compute the Z-scores for each data point\n",
    "z_scores = zscore(prep_X_train_scaled)\n",
    "\n",
    "# Define a threshold for Z-scores (e.g., 3 standard deviations)\n",
    "threshold = 4\n",
    "\n",
    "# Create a boolean mask for outliers: FALSE = outlier\n",
    "outliers_mask_z = (abs(z_scores) < threshold).all(axis=1)\n",
    "\n",
    "# Drop rows with at least one outlier\n",
    "df_no_outliers_z = prep_X_train_scaled[outliers_mask_z]\n",
    "\n",
    "# Get the indices of the rows without outliers in df_X\n",
    "indices_no_outliers_z = df_no_outliers_z.index\n",
    "\n",
    "# Filter df_y based on the indices\n",
    "df_y_no_outliers_z = prep_y_train.loc[indices_no_outliers_z]\n",
    "\n",
    "print(prep_X_train_scaled.shape)\n",
    "print(df_no_outliers_z.shape)\n",
    "print(df_y_no_outliers_z.shape)"
   ]
  },
  {
   "cell_type": "markdown",
   "metadata": {},
   "source": [
    "## Compare basic versions of different models using cross validation"
   ]
  },
  {
   "cell_type": "code",
   "execution_count": 29,
   "metadata": {},
   "outputs": [],
   "source": [
    "def test_basic_versions_of_models(X, y, random_state):\n",
    "    \n",
    "    regressors = {\n",
    "        'Dummy Model': DummyRegressor(strategy='mean'),\n",
    "        'OLS Linear Regression': LinearRegression(),\n",
    "        'Random Forest': RandomForestRegressor(random_state=random_state),\n",
    "        'SVR': SVR(),\n",
    "        'Lasso': Lasso(random_state=random_state),\n",
    "    }\n",
    "\n",
    "    for name, regressor in regressors.items():\n",
    "        model = regressor\n",
    "        y_cv_pred = cross_val_predict(model, X, y, cv=5)\n",
    "        r2 = r2_score(y, y_cv_pred)\n",
    "        print(f'{name}: R^2 Score = {r2:.4f}')"
   ]
  },
  {
   "cell_type": "markdown",
   "metadata": {},
   "source": [
    "### Without standard scaler (CV with k=5)"
   ]
  },
  {
   "cell_type": "code",
   "execution_count": 14,
   "metadata": {},
   "outputs": [],
   "source": [
    "#test_basic_versions_of_models(X=prep_X_train, y=prep_y_train.values.ravel(), random_state=42)"
   ]
  },
  {
   "cell_type": "markdown",
   "metadata": {},
   "source": [
    "### With standard scaler (CV with k=5)"
   ]
  },
  {
   "cell_type": "code",
   "execution_count": 40,
   "metadata": {},
   "outputs": [
    {
     "name": "stdout",
     "output_type": "stream",
     "text": [
      "Dummy Model: R^2 Score = -0.0195\n",
      "OLS Linear Regression: R^2 Score = -2458631957274887070941184.0000\n",
      "Random Forest: R^2 Score = 0.6903\n",
      "SVR: R^2 Score = 0.7247\n",
      "Lasso: R^2 Score = 0.2457\n"
     ]
    }
   ],
   "source": [
    "#test_basic_versions_of_models(X=prep_X_train_scaled, y=prep_y_train.values.ravel(), random_state=42)\n",
    "#test_basic_versions_of_models(X=df_no_outliers, y=df_y_no_outliers.values.ravel(), random_state=42) #Outliers IQR\n",
    "test_basic_versions_of_models(X=df_no_outliers_z, y=df_y_no_outliers_z.values.ravel(), random_state=42) #Outliers z < 2"
   ]
  },
  {
   "cell_type": "markdown",
   "metadata": {},
   "source": [
    "## Predict on actual test data"
   ]
  },
  {
   "cell_type": "markdown",
   "metadata": {},
   "source": [
    "### SVR basic version"
   ]
  },
  {
   "cell_type": "code",
   "execution_count": 15,
   "metadata": {},
   "outputs": [
    {
     "data": {
      "text/html": [
       "<div>\n",
       "<style scoped>\n",
       "    .dataframe tbody tr th:only-of-type {\n",
       "        vertical-align: middle;\n",
       "    }\n",
       "\n",
       "    .dataframe tbody tr th {\n",
       "        vertical-align: top;\n",
       "    }\n",
       "\n",
       "    .dataframe thead th {\n",
       "        text-align: right;\n",
       "    }\n",
       "</style>\n",
       "<table border=\"1\" class=\"dataframe\">\n",
       "  <thead>\n",
       "    <tr style=\"text-align: right;\">\n",
       "      <th></th>\n",
       "      <th>Id</th>\n",
       "      <th>target</th>\n",
       "    </tr>\n",
       "  </thead>\n",
       "  <tbody>\n",
       "    <tr>\n",
       "      <th>0</th>\n",
       "      <td>1000001</td>\n",
       "      <td>1.100978</td>\n",
       "    </tr>\n",
       "    <tr>\n",
       "      <th>1</th>\n",
       "      <td>1000002</td>\n",
       "      <td>-1.457233</td>\n",
       "    </tr>\n",
       "    <tr>\n",
       "      <th>2</th>\n",
       "      <td>1000003</td>\n",
       "      <td>-1.999204</td>\n",
       "    </tr>\n",
       "    <tr>\n",
       "      <th>3</th>\n",
       "      <td>1000004</td>\n",
       "      <td>-3.772044</td>\n",
       "    </tr>\n",
       "    <tr>\n",
       "      <th>4</th>\n",
       "      <td>1000005</td>\n",
       "      <td>-4.508600</td>\n",
       "    </tr>\n",
       "  </tbody>\n",
       "</table>\n",
       "</div>"
      ],
      "text/plain": [
       "        Id    target\n",
       "0  1000001  1.100978\n",
       "1  1000002 -1.457233\n",
       "2  1000003 -1.999204\n",
       "3  1000004 -3.772044\n",
       "4  1000005 -4.508600"
      ]
     },
     "execution_count": 15,
     "metadata": {},
     "output_type": "execute_result"
    }
   ],
   "source": [
    "model = SVR().fit(prep_X_train_scaled, prep_y_train.values.ravel())\n",
    "\n",
    "predictions = model.predict(prep_X_test_scaled)\n",
    "\n",
    "results = pd.DataFrame()\n",
    "results['Id'] = orig_X_test['Id']\n",
    "results['target'] = predictions\n",
    "\n",
    "results.head()"
   ]
  },
  {
   "cell_type": "markdown",
   "metadata": {},
   "source": [
    "### SVR (no outliers, n = 2149) > kaggle R2 = 0.37"
   ]
  },
  {
   "cell_type": "code",
   "execution_count": 42,
   "metadata": {},
   "outputs": [
    {
     "data": {
      "text/html": [
       "<div>\n",
       "<style scoped>\n",
       "    .dataframe tbody tr th:only-of-type {\n",
       "        vertical-align: middle;\n",
       "    }\n",
       "\n",
       "    .dataframe tbody tr th {\n",
       "        vertical-align: top;\n",
       "    }\n",
       "\n",
       "    .dataframe thead th {\n",
       "        text-align: right;\n",
       "    }\n",
       "</style>\n",
       "<table border=\"1\" class=\"dataframe\">\n",
       "  <thead>\n",
       "    <tr style=\"text-align: right;\">\n",
       "      <th></th>\n",
       "      <th>Id</th>\n",
       "      <th>target</th>\n",
       "    </tr>\n",
       "  </thead>\n",
       "  <tbody>\n",
       "    <tr>\n",
       "      <th>0</th>\n",
       "      <td>1000001</td>\n",
       "      <td>-2.348107</td>\n",
       "    </tr>\n",
       "    <tr>\n",
       "      <th>1</th>\n",
       "      <td>1000002</td>\n",
       "      <td>-4.411795</td>\n",
       "    </tr>\n",
       "    <tr>\n",
       "      <th>2</th>\n",
       "      <td>1000003</td>\n",
       "      <td>-3.748738</td>\n",
       "    </tr>\n",
       "    <tr>\n",
       "      <th>3</th>\n",
       "      <td>1000004</td>\n",
       "      <td>-4.478076</td>\n",
       "    </tr>\n",
       "    <tr>\n",
       "      <th>4</th>\n",
       "      <td>1000005</td>\n",
       "      <td>-4.823865</td>\n",
       "    </tr>\n",
       "  </tbody>\n",
       "</table>\n",
       "</div>"
      ],
      "text/plain": [
       "        Id    target\n",
       "0  1000001 -2.348107\n",
       "1  1000002 -4.411795\n",
       "2  1000003 -3.748738\n",
       "3  1000004 -4.478076\n",
       "4  1000005 -4.823865"
      ]
     },
     "execution_count": 42,
     "metadata": {},
     "output_type": "execute_result"
    }
   ],
   "source": [
    "model = SVR().fit(df_no_outliers, df_y_no_outliers.values.ravel())\n",
    "\n",
    "predictions = model.predict(prep_X_test_scaled)\n",
    "\n",
    "results = pd.DataFrame()\n",
    "results['Id'] = orig_X_test['Id']\n",
    "results['target'] = predictions\n",
    "\n",
    "results.head()"
   ]
  },
  {
   "cell_type": "markdown",
   "metadata": {},
   "source": [
    "### SVR \n",
    "no outliers [zscore < 2], n = 16586 > kaggle R2 = 0.65782\n",
    "zscore < 2.3, n = 13243 > kaggle R2 = 0.65538\n",
    "zscore < 1.8, n= 24249 > kaggle R2 = 0.66257\n",
    "\n",
    "Basic R2 = 66.329"
   ]
  },
  {
   "cell_type": "code",
   "execution_count": 49,
   "metadata": {},
   "outputs": [
    {
     "data": {
      "text/html": [
       "<div>\n",
       "<style scoped>\n",
       "    .dataframe tbody tr th:only-of-type {\n",
       "        vertical-align: middle;\n",
       "    }\n",
       "\n",
       "    .dataframe tbody tr th {\n",
       "        vertical-align: top;\n",
       "    }\n",
       "\n",
       "    .dataframe thead th {\n",
       "        text-align: right;\n",
       "    }\n",
       "</style>\n",
       "<table border=\"1\" class=\"dataframe\">\n",
       "  <thead>\n",
       "    <tr style=\"text-align: right;\">\n",
       "      <th></th>\n",
       "      <th>Id</th>\n",
       "      <th>target</th>\n",
       "    </tr>\n",
       "  </thead>\n",
       "  <tbody>\n",
       "    <tr>\n",
       "      <th>0</th>\n",
       "      <td>1000001</td>\n",
       "      <td>0.594860</td>\n",
       "    </tr>\n",
       "    <tr>\n",
       "      <th>1</th>\n",
       "      <td>1000002</td>\n",
       "      <td>-2.498649</td>\n",
       "    </tr>\n",
       "    <tr>\n",
       "      <th>2</th>\n",
       "      <td>1000003</td>\n",
       "      <td>-1.945012</td>\n",
       "    </tr>\n",
       "    <tr>\n",
       "      <th>3</th>\n",
       "      <td>1000004</td>\n",
       "      <td>-3.633043</td>\n",
       "    </tr>\n",
       "    <tr>\n",
       "      <th>4</th>\n",
       "      <td>1000005</td>\n",
       "      <td>-4.488920</td>\n",
       "    </tr>\n",
       "  </tbody>\n",
       "</table>\n",
       "</div>"
      ],
      "text/plain": [
       "        Id    target\n",
       "0  1000001  0.594860\n",
       "1  1000002 -2.498649\n",
       "2  1000003 -1.945012\n",
       "3  1000004 -3.633043\n",
       "4  1000005 -4.488920"
      ]
     },
     "execution_count": 49,
     "metadata": {},
     "output_type": "execute_result"
    }
   ],
   "source": [
    "model = SVR().fit(df_no_outliers_z, df_y_no_outliers_z.values.ravel())\n",
    "\n",
    "predictions = model.predict(prep_X_test_scaled)\n",
    "\n",
    "results = pd.DataFrame()\n",
    "results['Id'] = orig_X_test['Id']\n",
    "results['target'] = predictions\n",
    "\n",
    "results.head()"
   ]
  },
  {
   "cell_type": "code",
   "execution_count": 50,
   "metadata": {},
   "outputs": [],
   "source": [
    "results.to_csv('data/results.csv', index=False)"
   ]
  }
 ],
 "metadata": {
  "kernelspec": {
   "display_name": "Python 3",
   "language": "python",
   "name": "python3"
  },
  "language_info": {
   "codemirror_mode": {
    "name": "ipython",
    "version": 3
   },
   "file_extension": ".py",
   "mimetype": "text/x-python",
   "name": "python",
   "nbconvert_exporter": "python",
   "pygments_lexer": "ipython3",
   "version": "3.10.12"
  }
 },
 "nbformat": 4,
 "nbformat_minor": 2
}
